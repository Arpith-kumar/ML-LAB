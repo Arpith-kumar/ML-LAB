{
 "cells": [
  {
   "cell_type": "markdown",
   "metadata": {},
   "source": [
    "# K Nearest Neighbor"
   ]
  },
  {
   "cell_type": "markdown",
   "metadata": {},
   "source": [
    "> Q: Write a program to implement k-Nearest Neighbour algorithm to classify the iris data set. Print both correct and wrong predictions.\n",
    "\n",
    "### Reference to understand KNN\n",
    "1. Medium Article: https://medium.com/@srishtisawla/k-nearest-neighbors-f77f6ee6b7f5\n",
    "2. KNN Explaination in Youtube : https://www.youtube.com/watch?v=6kZ-OPLNcgE\n",
    "\n",
    "## Aim :\n",
    "Our aim to find which class does the Flower Feature belongs to.\n",
    "\n",
    "> __1.Dataset__ - Iris dataset is a popular dataset which contains the feature about the flower interms of Image Tensor, Class Label etc.\n",
    "\n",
    "> __2.Train-Test-Split__ - sklearn also provides a library from which we can divide the whole dataset into certain amount of Train & Test data. Which helps us to train the model as well as test it over it's learning\n",
    "\n",
    "> __3. pandas & numpy__ - you guys might have probabily used but still, pandas used to handle the data in the form of dataframe and numpy for extra matrix, vector operation with ease. \n",
    "\n",
    "> __4. Model__ - KNN model can be easily implemented by ```sklearn.models``` library."
   ]
  },
  {
   "cell_type": "code",
   "execution_count": 36,
   "metadata": {},
   "outputs": [],
   "source": [
    "from sklearn.neighbors import KNeighborsClassifier\n",
    "from sklearn.model_selection import train_test_split\n",
    "from sklearn.datasets import load_iris\n",
    "import numpy as np\n",
    "import pandas as pd"
   ]
  },
  {
   "cell_type": "markdown",
   "metadata": {},
   "source": [
    "### 1. Data Preprocessing"
   ]
  },
  {
   "cell_type": "code",
   "execution_count": 37,
   "metadata": {},
   "outputs": [
    {
     "name": "stdout",
     "output_type": "stream",
     "text": [
      "Shape of Train-x: (112, 4) Shape of Test-x: (38, 4)\n",
      "Shape of Train-y: (112,) Shape of Test-y: (38,)\n"
     ]
    }
   ],
   "source": [
    "# Class to get iris data\n",
    "iris_data = load_iris()\n",
    "\n",
    "# Train test split using the object of load_iris class\n",
    "x_train, x_test, y_train, y_test = train_test_split(iris_data.data, iris_data.target)\n",
    "\n",
    "print('Shape of Train-x:',x_train.shape, 'Shape of Test-x:',x_test.shape)\n",
    "print('Shape of Train-y:',y_train.shape, 'Shape of Test-y:',y_test.shape)"
   ]
  },
  {
   "cell_type": "markdown",
   "metadata": {},
   "source": [
    "Here shape is 2D value Means that, there are 112 rows of tuples of 4 Attributes are present.\n",
    "\n",
    "3 Type of flowers are present: ['setosa' 'versicolor' 'virginica'] <-- Can be obtained by ```print(iris_data.target_names)```"
   ]
  },
  {
   "cell_type": "markdown",
   "metadata": {},
   "source": [
    "### 2. Model Preparation & training:\n",
    "Model is trained by __train__ dataset provided, with neighbors __1__."
   ]
  },
  {
   "cell_type": "code",
   "execution_count": 38,
   "metadata": {},
   "outputs": [
    {
     "data": {
      "text/plain": [
       "KNeighborsClassifier(algorithm='auto', leaf_size=30, metric='minkowski',\n",
       "           metric_params=None, n_jobs=None, n_neighbors=1, p=2,\n",
       "           weights='uniform')"
      ]
     },
     "execution_count": 38,
     "metadata": {},
     "output_type": "execute_result"
    }
   ],
   "source": [
    "# Create object of KNN classifier class\n",
    "knn = KNeighborsClassifier(n_neighbors=1)\n",
    "\n",
    "# Training\n",
    "knn.fit(x_train, y_train)"
   ]
  },
  {
   "cell_type": "markdown",
   "metadata": {},
   "source": [
    "### 3. Predict using ```test``` data"
   ]
  },
  {
   "cell_type": "code",
   "execution_count": 39,
   "metadata": {},
   "outputs": [
    {
     "name": "stdout",
     "output_type": "stream",
     "text": [
      "> Actual  versicolor  -- Predicted  setosa\n",
      "> Actual  versicolor  -- Predicted  virginica\n",
      "> Actual  versicolor  -- Predicted  versicolor\n",
      "> Actual  virginica  -- Predicted  versicolor\n",
      "> Actual  setosa  -- Predicted  setosa\n",
      "> Actual  versicolor  -- Predicted  setosa\n",
      "> Actual  virginica  -- Predicted  versicolor\n",
      "> Actual  setosa  -- Predicted  virginica\n",
      "> Actual  setosa  -- Predicted  setosa\n",
      "> Actual  versicolor  -- Predicted  virginica\n"
     ]
    }
   ],
   "source": [
    "y_pred = knn.predict(x_test)\n",
    "\n",
    "for i in range(10):\n",
    "    print('> Actual ',iris_data.target_names[y_train[i]],' -- Predicted ',iris_data.target_names[y_test[i]])          "
   ]
  },
  {
   "cell_type": "code",
   "execution_count": 40,
   "metadata": {},
   "outputs": [
    {
     "name": "stdout",
     "output_type": "stream",
     "text": [
      "Accuracy of KNN : 0.9473684210526315\n"
     ]
    }
   ],
   "source": [
    "print('Accuracy of KNN :', knn.score(x_test, y_test))"
   ]
  }
 ],
 "metadata": {
  "kernelspec": {
   "display_name": "Python 3",
   "language": "python",
   "name": "python3"
  },
  "language_info": {
   "codemirror_mode": {
    "name": "ipython",
    "version": 3
   },
   "file_extension": ".py",
   "mimetype": "text/x-python",
   "name": "python",
   "nbconvert_exporter": "python",
   "pygments_lexer": "ipython3",
   "version": "3.7.3"
  }
 },
 "nbformat": 4,
 "nbformat_minor": 2
}
