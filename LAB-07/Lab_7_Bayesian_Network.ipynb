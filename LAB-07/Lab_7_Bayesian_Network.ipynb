{
  "nbformat": 4,
  "nbformat_minor": 0,
  "metadata": {
    "kernelspec": {
      "display_name": "Python 3",
      "language": "python",
      "name": "python3"
    },
    "language_info": {
      "codemirror_mode": {
        "name": "ipython",
        "version": 3
      },
      "file_extension": ".py",
      "mimetype": "text/x-python",
      "name": "python",
      "nbconvert_exporter": "python",
      "pygments_lexer": "ipython3",
      "version": "3.7.3"
    },
    "colab": {
      "name": "Lab 7 Bayesian Network.ipynb",
      "provenance": [],
      "collapsed_sections": []
    }
  },
  "cells": [
    {
      "cell_type": "markdown",
      "metadata": {
        "id": "1_22Fj0FxFIy",
        "colab_type": "text"
      },
      "source": [
        "## 7 Bayesian Network\n",
        "> Q: Write a program to construct a Bayesian network considering medical data. Use this model to demonstrate the diagnosis of heart patients using standard Heart Disease Data Set.\n",
        "\n",
        "Here, Aim is to understand how a Bayesian Network used for probabilistic prediction of the Heart Diseases.\n",
        "<hr>\n",
        "<b>References & Useful Links: Please do read before proceeding</b><br>\n",
        "1. <a href=\"https://towardsdatascience.com/basics-of-bayesian-network-79435e11ae7b\">Bayesian Network : Medium Article with very good examples</a>\n",
        "\n",
        "<hr>\n",
        "<b>NOTE :</b><br> we requrire <code>pgmpy</code> library, which intern requires <code>pytorch</code>. Please do makesure that you have those package installed and then run this code or else please do check <a href=\"https://colab.research.google.com/\"><b>Google Colab</b></a>."
      ]
    },
    {
      "cell_type": "code",
      "metadata": {
        "id": "qA9FR05TxFI0",
        "colab_type": "code",
        "colab": {
          "base_uri": "https://localhost:8080/",
          "height": 34
        },
        "outputId": "e308a509-dabd-4148-9da3-c8fafda28f4a"
      },
      "source": [
        "!pip install pgmpy\n",
        "from pgmpy.models import BayesianModel\n",
        "from pgmpy.estimators import MaximumLikelihoodEstimator\n",
        "from pgmpy.inference import VariableElimination"
      ],
      "execution_count": 2,
      "outputs": [
        {
          "output_type": "stream",
          "text": [
            "Requirement already satisfied: pgmpy in /usr/local/lib/python3.6/dist-packages (0.1.9)\n"
          ],
          "name": "stdout"
        }
      ]
    },
    {
      "cell_type": "code",
      "metadata": {
        "id": "7FjLE1lCxFI5",
        "colab_type": "code",
        "colab": {
          "base_uri": "https://localhost:8080/",
          "height": 195
        },
        "outputId": "5f7f49bb-1ad5-407d-c9ba-f27a8ee1efea"
      },
      "source": [
        "import csv\n",
        "import pandas as pd\n",
        "import numpy as np\n",
        "\n",
        "# Read the attribute names\n",
        "names = list(csv.reader(open('DATASET/data7_names.csv','r')))[0]\n",
        "\n",
        "# Read the dataset\n",
        "dataset = pd.read_csv(open('DATASET/data7_heart.csv','r'), names=names)\n",
        "\n",
        "dataset.head(5)"
      ],
      "execution_count": 10,
      "outputs": [
        {
          "output_type": "execute_result",
          "data": {
            "text/html": [
              "<div>\n",
              "<style scoped>\n",
              "    .dataframe tbody tr th:only-of-type {\n",
              "        vertical-align: middle;\n",
              "    }\n",
              "\n",
              "    .dataframe tbody tr th {\n",
              "        vertical-align: top;\n",
              "    }\n",
              "\n",
              "    .dataframe thead th {\n",
              "        text-align: right;\n",
              "    }\n",
              "</style>\n",
              "<table border=\"1\" class=\"dataframe\">\n",
              "  <thead>\n",
              "    <tr style=\"text-align: right;\">\n",
              "      <th></th>\n",
              "      <th>age</th>\n",
              "      <th>sex</th>\n",
              "      <th>cp</th>\n",
              "      <th>trestbps</th>\n",
              "      <th>chol</th>\n",
              "      <th>fbs</th>\n",
              "      <th>restecg</th>\n",
              "      <th>thalach</th>\n",
              "      <th>exang</th>\n",
              "      <th>oldpeak</th>\n",
              "      <th>slope</th>\n",
              "      <th>ca</th>\n",
              "      <th>thal</th>\n",
              "      <th>heartdisease</th>\n",
              "    </tr>\n",
              "  </thead>\n",
              "  <tbody>\n",
              "    <tr>\n",
              "      <th>0</th>\n",
              "      <td>28</td>\n",
              "      <td>1</td>\n",
              "      <td>2</td>\n",
              "      <td>130</td>\n",
              "      <td>132</td>\n",
              "      <td>0</td>\n",
              "      <td>2</td>\n",
              "      <td>185</td>\n",
              "      <td>0</td>\n",
              "      <td>0.0</td>\n",
              "      <td>?</td>\n",
              "      <td>?</td>\n",
              "      <td>?</td>\n",
              "      <td>0</td>\n",
              "    </tr>\n",
              "    <tr>\n",
              "      <th>1</th>\n",
              "      <td>29</td>\n",
              "      <td>1</td>\n",
              "      <td>2</td>\n",
              "      <td>120</td>\n",
              "      <td>243</td>\n",
              "      <td>0</td>\n",
              "      <td>0</td>\n",
              "      <td>160</td>\n",
              "      <td>0</td>\n",
              "      <td>0.0</td>\n",
              "      <td>?</td>\n",
              "      <td>?</td>\n",
              "      <td>?</td>\n",
              "      <td>0</td>\n",
              "    </tr>\n",
              "    <tr>\n",
              "      <th>2</th>\n",
              "      <td>29</td>\n",
              "      <td>1</td>\n",
              "      <td>2</td>\n",
              "      <td>140</td>\n",
              "      <td>?</td>\n",
              "      <td>0</td>\n",
              "      <td>0</td>\n",
              "      <td>170</td>\n",
              "      <td>0</td>\n",
              "      <td>0.0</td>\n",
              "      <td>?</td>\n",
              "      <td>?</td>\n",
              "      <td>?</td>\n",
              "      <td>0</td>\n",
              "    </tr>\n",
              "    <tr>\n",
              "      <th>3</th>\n",
              "      <td>30</td>\n",
              "      <td>0</td>\n",
              "      <td>1</td>\n",
              "      <td>170</td>\n",
              "      <td>237</td>\n",
              "      <td>0</td>\n",
              "      <td>1</td>\n",
              "      <td>170</td>\n",
              "      <td>0</td>\n",
              "      <td>0.0</td>\n",
              "      <td>?</td>\n",
              "      <td>?</td>\n",
              "      <td>6</td>\n",
              "      <td>0</td>\n",
              "    </tr>\n",
              "    <tr>\n",
              "      <th>4</th>\n",
              "      <td>31</td>\n",
              "      <td>0</td>\n",
              "      <td>2</td>\n",
              "      <td>100</td>\n",
              "      <td>219</td>\n",
              "      <td>0</td>\n",
              "      <td>1</td>\n",
              "      <td>150</td>\n",
              "      <td>0</td>\n",
              "      <td>0.0</td>\n",
              "      <td>?</td>\n",
              "      <td>?</td>\n",
              "      <td>?</td>\n",
              "      <td>0</td>\n",
              "    </tr>\n",
              "  </tbody>\n",
              "</table>\n",
              "</div>"
            ],
            "text/plain": [
              "   age  sex  cp trestbps chol fbs  ... exang oldpeak slope  ca thal heartdisease\n",
              "0   28    1   2      130  132   0  ...     0     0.0     ?   ?    ?            0\n",
              "1   29    1   2      120  243   0  ...     0     0.0     ?   ?    ?            0\n",
              "2   29    1   2      140    ?   0  ...     0     0.0     ?   ?    ?            0\n",
              "3   30    0   1      170  237   0  ...     0     0.0     ?   ?    6            0\n",
              "4   31    0   2      100  219   0  ...     0     0.0     ?   ?    ?            0\n",
              "\n",
              "[5 rows x 14 columns]"
            ]
          },
          "metadata": {
            "tags": []
          },
          "execution_count": 10
        }
      ]
    },
    {
      "cell_type": "markdown",
      "metadata": {
        "id": "agG7-ozPxFI9",
        "colab_type": "text"
      },
      "source": [
        "Here above output is from the 'dataset' which contains attributes given as the list.\n",
        "__dataset__ is of type __<pandas.dataframe>__ object and, __names__ is of __list__ type"
      ]
    },
    {
      "cell_type": "code",
      "metadata": {
        "id": "qwGLBnsNxFI-",
        "colab_type": "code",
        "colab": {}
      },
      "source": [
        "model = BayesianModel([('age', 'chol'), ('sex', 'chol'), ('chol', 'heartdisease')])\n",
        "\n",
        "model.fit(dataset, estimator = MaximumLikelihoodEstimator)"
      ],
      "execution_count": 0,
      "outputs": []
    },
    {
      "cell_type": "markdown",
      "metadata": {
        "id": "7S0Lkw-gxFJB",
        "colab_type": "text"
      },
      "source": [
        "A simple Bayesian Model is created using the relationship:<br>\n",
        "<i>( you can change the Network configuration )</i><br>\n",
        "<br>\n",
        "As mentioned in the article, Network contains <b>Node (N) and Edges (E)</b><br>\n",
        "Where, <br><ul><li>N:Attribute_Names</li><li>E:SourceNode->DestinationNode</li></ul>\n",
        "Network configured can be shown like this,<br>\n",
        "<img src=\"https://i.ibb.co/X4Pk8ft/network.png\" style=\"float: left; width:30%\"/>"
      ]
    },
    {
      "cell_type": "code",
      "metadata": {
        "id": "CIg5wBUmxFJB",
        "colab_type": "code",
        "colab": {
          "base_uri": "https://localhost:8080/",
          "height": 175
        },
        "outputId": "45150e21-ea30-4661-f957-280e95fe06c2"
      },
      "source": [
        "HeartDisease_infer = VariableElimination(model)\n",
        "\n",
        "queryResult = HeartDisease_infer.query(variables=['heartdisease'], evidence={'age': 28, 'sex':0})\n",
        "\n",
        "print(queryResult['heartdisease'])"
      ],
      "execution_count": 15,
      "outputs": [
        {
          "output_type": "stream",
          "text": [
            "Finding Elimination Order: : 100%|██████████| 1/1 [00:00<00:00, 108.59it/s]\n",
            "Eliminating: chol: 100%|██████████| 1/1 [00:00<00:00, 71.82it/s]"
          ],
          "name": "stderr"
        },
        {
          "output_type": "stream",
          "text": [
            "+-----------------+---------------------+\n",
            "| heartdisease    |   phi(heartdisease) |\n",
            "+=================+=====================+\n",
            "| heartdisease(0) |              0.6158 |\n",
            "+-----------------+---------------------+\n",
            "| heartdisease(1) |              0.3842 |\n",
            "+-----------------+---------------------+\n"
          ],
          "name": "stdout"
        },
        {
          "output_type": "stream",
          "text": [
            "\n"
          ],
          "name": "stderr"
        }
      ]
    },
    {
      "cell_type": "code",
      "metadata": {
        "id": "6xkbzegtyeGF",
        "colab_type": "code",
        "colab": {}
      },
      "source": [
        ""
      ],
      "execution_count": 0,
      "outputs": []
    }
  ]
}